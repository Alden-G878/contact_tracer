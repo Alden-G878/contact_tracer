{
 "cells": [
  {
   "cell_type": "markdown",
   "metadata": {},
   "source": [
    "# Contact Tracer\n",
    "\n",
    "One of the main problems with this approach is what is the information that we are going to use. I was looking in internet and I did not find any information about tracing people.\n",
    "Once we have the data, we have to select the important informatio we are going to work with.\n",
    "\n",
    "1) Information from the people, just about interaction between them?\n",
    "\n",
    "2) How this interaction change the probability of been positive\n",
    "\n",
    "## Qiskit Model\n",
    "As I mentioned in our last meeting IBMQ has a quantum simulator with just 32 qubits. Therefore, we are restricted to work with this amount of people "
   ]
  },
  {
   "cell_type": "markdown",
   "metadata": {},
   "source": [
    "# Load the account of IBMQ\n",
    "Remember that you need an account in IBMQ. Here is the link for creating the account https://quantum-computing.ibm.com \n",
    "There are real devices, but, those have a lot of noise and do not have enough number of qubits."
   ]
  },
  {
   "cell_type": "code",
   "execution_count": 3,
   "metadata": {},
   "outputs": [
    {
     "name": "stderr",
     "output_type": "stream",
     "text": [
      "ibmqfactory.load_account:WARNING:2020-06-26 22:01:48,865: Credentials are already in use. The existing account in the session will be replaced.\n"
     ]
    },
    {
     "name": "stdout",
     "output_type": "stream",
     "text": [
      "['ibmq_qasm_simulator', 'ibmqx2', 'ibmq_16_melbourne', 'ibmq_vigo', 'ibmq_ourense', 'ibmq_london', 'ibmq_burlington', 'ibmq_essex', 'ibmq_armonk', 'ibmq_rome']\n"
     ]
    }
   ],
   "source": [
    "import qiskit as qk\n",
    "from qiskit import IBMQ\n",
    "\n",
    "provider = IBMQ.load_account()\n",
    "backends = provider.backends()\n",
    "names = []\n",
    "for backend in backends:\n",
    "    names.append(backend.name())\n",
    "    \n",
    "print(names)"
   ]
  },
  {
   "cell_type": "markdown",
   "metadata": {},
   "source": [
    "# Quantum Simulator\n",
    "The quantum simulator is our best candidate for simulating the propagation of the virus. \n"
   ]
  },
  {
   "cell_type": "code",
   "execution_count": 6,
   "metadata": {},
   "outputs": [
    {
     "name": "stdout",
     "output_type": "stream",
     "text": [
      "32\n"
     ]
    }
   ],
   "source": [
    "backend = provider.get_backend('ibmq_qasm_simulator')\n",
    "configuration = backend.configuration().to_dict()\n",
    "n_qubits = backend.configuration().n_qubits\n",
    "print(n_qubits)"
   ]
  },
  {
   "cell_type": "markdown",
   "metadata": {},
   "source": [
    "## Circuit Representing the interactions \n",
    "This is how the circuit is going to be. We need the rules that will control the interaction between people. "
   ]
  },
  {
   "cell_type": "code",
   "execution_count": 245,
   "metadata": {},
   "outputs": [
    {
     "data": {
      "text/plain": [
       "<qiskit.circuit.instructionset.InstructionSet at 0x7ffc31f522d0>"
      ]
     },
     "execution_count": 245,
     "metadata": {},
     "output_type": "execute_result"
    }
   ],
   "source": [
    "circuit = qk.QuantumCircuit(32)\n",
    "circuit.h([i for i in range(n_qubits) if i % 2 == 0])\n",
    "circuit.cx([0,1],[2,3])\n",
    "#circuit.draw('mpl')"
   ]
  },
  {
   "cell_type": "markdown",
   "metadata": {},
   "source": [
    "## Example of contact\n",
    "Imagine two people represented by the following qubits:\n",
    "\n",
    "$$ P_1  = \\alpha\\left|0\\right> + \\beta\\left|1\\right>$$\n",
    "$$ P_2  = \\gamma\\left|0\\right> + \\delta\\left|1\\right>$$\n",
    "\n",
    "where $|\\alpha|^2$ represent the probability of $P_1$ for not being infected and $|\\beta|^2$ the probability of $P_1$ for being infected (The same for person two $P_2$). Therefore, the state is:\n",
    "\n",
    "$$ P_1 \\otimes P_2  = \\alpha\\gamma\\left|00\\right> + \\alpha\\delta\\left|01\\right> + \\beta\\gamma\\left|10\\right> +\\beta\\delta \\left|11\\right>$$\n",
    "\n",
    "Applying a CNOT gate ($U_{CNOT}\\left[P_1\\otimes P_2\\right] = P_1 \\otimes (P_1 \\oplus P_2)$):\n",
    "\n",
    "$$ P_1 \\otimes P_2  = \\alpha\\gamma\\left|00\\right> + \\alpha\\delta\\left|01\\right> + \\beta\\gamma\\left|11\\right> +\\beta\\delta \\left|10\\right>$$\n",
    "\n",
    "In this case we are just interested in the last two cases which are the cases that tell us what happens with the second person if the first person is infected. We can eliminate the first two states starting the first person in the state $P_1 = \\left|1\\right>$. In this case $\\alpha = 0$ and $\\beta = 1$.\n",
    "\n",
    "$$ P_1 \\otimes P_2  = \\gamma\\left|10\\right> + \\delta \\left|11\\right>$$\n",
    "\n",
    "Here, we have to apply a gate to the second qubit based on the interaction that this qubit had with the first qubit (In terms of people). Then, $\\gamma$ and $\\delta$ represent the interaction, we can use rotations around x to get this.Here, $\\theta$ corresponds the degree of interaction of the second person with the first, $\\theta = 0$ means the interaction does not generate infection and $\\theta = \\pi$ means the interaction generates infection.\n",
    "\n",
    "$$R_x(\\theta) = \\begin{bmatrix} cos(\\theta/2) & -i sin(\\theta/2) \\\\ -i sin(\\theta/2) & cos(\\theta/2)\\end{bmatrix}$$\n",
    "\n",
    "### In fact, we do not need to use a cnot gate and a rotation gate. Qiskit has a controlled x-rotation.\n",
    "\n",
    "# Example\n",
    "Let's analys a simple case. Here, we have interaction between five people, in the way shown in the graph below. We have to extend the interaction from one way to both ways between nodes in our Quantum Computing model."
   ]
  },
  {
   "cell_type": "code",
   "execution_count": 193,
   "metadata": {},
   "outputs": [
    {
     "data": {
      "image/png": "[encoded data removed]",
      "text/plain": [
       "<Figure size 432x288 with 1 Axes>"
      ]
     },
     "metadata": {},
     "output_type": "display_data"
    }
   ],
   "source": [
    "import networkx as nx\n",
    "G = nx.Graph()\n",
    "G.add_nodes_from([0,1,2,3,4])\n",
    "G.add_edges_from([(0,1),(0,2),(1,3),(0,4)])\n",
    "nx.draw(G, with_labels = True)"
   ]
  },
  {
   "cell_type": "markdown",
   "metadata": {},
   "source": [
    "We can do it adding a second controlled x-rotation in the inverse way. Now, we need the angles of rotation based on the interaction between people. I propose \n",
    "\n",
    "$$\\theta(t) = \\pi(1 - e^{t/T})$$\n",
    "\n",
    "where $t$ is the interaction time and $T$ is a constant that determines how fast the contact increment the probability of being infected (It should based on some study). Now, the main problem is what we are going to measure.\n",
    "\n",
    "My suggestion is exemplify by the next case:\n",
    "\n",
    "Imagine that in our case $P_2$ and $P_3$ are going to take a test and it is positive. Then, we have the algorithm to track which of the people that were in contact with $P_2$ and $P_3$ have more probability to being infected. Even more, we can track the origin of the infection! Because, we have the order in which $P_2$ had contact with $P_0$ and $P_3$ with $P_1$. We just need to put the interaction gates in the order of interaction between people. \n",
    "\n",
    "Suppose $P_1$ is the origin of the infection but he does not know yet. Traking the history, we have the order of events:\n",
    "\n",
    "1) $P_4$ interacts with $P_0$\n",
    "\n",
    "2) $P_0$ interacts with $P_1$\n",
    "\n",
    "3) $P_0$ interacts with $P_2$\n",
    "\n",
    "4) $P_1$ interacts with $P_3$\n",
    "\n",
    "The qiskit code for this is:\n"
   ]
  },
  {
   "cell_type": "code",
   "execution_count": 201,
   "metadata": {},
   "outputs": [
    {
     "data": {
      "image/png": "[encoded data removed]",
      "text/plain": [
       "<Figure size 960.792x385.28 with 1 Axes>"
      ]
     },
     "execution_count": 201,
     "metadata": {},
     "output_type": "execute_result"
    }
   ],
   "source": [
    "# Toy example\n",
    "import numpy as np\n",
    "theta01 = np.pi/2;theta02 = np.pi/2;theta04 = np.pi/2;theta13 = np.pi/2\n",
    "circuit = qk.QuantumCircuit(5,5)\n",
    "theta = np.pi/4 # rotation angle about x-axis\n",
    "circuit.x(2) # P2 gives positive in the test\n",
    "circuit.x(3) # P3 gives positive in the test\n",
    "# Chronology of events:\n",
    "circuit.crx(theta04,[0,4],[4,0]) # Interaction P4 with P0\n",
    "circuit.crx(theta01,[0,1],[1,0]) # Interaction P4 with P0\n",
    "circuit.crx(theta02,[0,2],[2,0]) # Interaction P4 with P0\n",
    "circuit.crx(theta13,[1,3],[3,1]) # Interaction P4 with P0\n",
    "circuit.measure([0,1,2,3,4],[0,1,2,3,4])\n",
    "circuit.draw('mpl')"
   ]
  },
  {
   "cell_type": "code",
   "execution_count": 232,
   "metadata": {},
   "outputs": [],
   "source": [
    "from qiskit import Aer\n",
    "backend = Aer.get_backend('qasm_simulator')\n",
    "shots = 1000\n",
    "job = qk.execute(circuit,backend,shots = shots)\n",
    "\n",
    "def probability_infected(results,qubit,shots):\n",
    "    #Remember the qubits are counted from right to left, that means q0 position is -1\n",
    "    one = 0\n",
    "    for key,count in results.items():\n",
    "        if key[-(qubit + 1)] == '1':\n",
    "            one += count\n",
    "    return 100*(one / shots)"
   ]
  },
  {
   "cell_type": "code",
   "execution_count": 244,
   "metadata": {},
   "outputs": [
    {
     "name": "stdout",
     "output_type": "stream",
     "text": [
      "Probability P0 of being infected :  46.6\n",
      "Probability P1 of being infected :  48.7\n",
      "Probability P2 of being infected :  100.0\n",
      "Probability P3 of being infected :  100.0\n",
      "Probability P4 of being infected :  0.0\n"
     ]
    },
    {
     "data": {
      "image/png": "[encoded data removed]",
      "text/plain": [
       "<Figure size 504x360 with 1 Axes>"
      ]
     },
     "execution_count": 244,
     "metadata": {},
     "output_type": "execute_result"
    }
   ],
   "source": [
    "from qiskit.visualization import plot_histogram\n",
    "results = job.result().get_counts()\n",
    "people = 5\n",
    "for person in range(people):\n",
    "    print(\"Probability P{} of being infected : \".format(person),round(probability_infected(results,person,shots),2))\n",
    "plot_histogram(results)"
   ]
  },
  {
   "cell_type": "markdown",
   "metadata": {},
   "source": [
    "Here, we can see that the probability of $P_4$ is zero, because, He was in contact with $P_0$, before $P_0$ got infected. The difference in probability between $P_0$ and $P_1$ shows that $P_1$ is more likely being the origin of the infection."
   ]
  },
  {
   "cell_type": "code",
   "execution_count": null,
   "metadata": {},
   "outputs": [],
   "source": []
  }
 ],
 "metadata": {
  "kernelspec": {
   "display_name": "Python 3",
   "language": "python",
   "name": "python3"
  },
  "language_info": {
   "codemirror_mode": {
    "name": "ipython",
    "version": 3
   },
   "file_extension": ".py",
   "mimetype": "text/x-python",
   "name": "python",
   "nbconvert_exporter": "python",
   "pygments_lexer": "ipython3",
   "version": "3.7.6"
  }
 },
 "nbformat": 4,
 "nbformat_minor": 4
}
