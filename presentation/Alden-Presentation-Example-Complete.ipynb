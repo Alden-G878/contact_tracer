from qiskit import *
import matplotlib.pyplot as plt
import networkx as nx
G = nx.Graph()
color_map=[]
G.add_nodes_from([0,1,2,3,4])
G.add_edges_from([(0,1),(0,2),(1,3),(0,4)])
for node in G:
    if node == 0:
        color_map.append('orange')
    if node == 1:
        color_map.append('red')
    if node == 2:
        color_map.append('yellow')
    if node == 3:
        color_map.append('orange')
    if node == 4:
        color_map.append('yellow')
nx.draw(G, node_color = color_map, with_labels = True)
